{
 "cells": [
  {
   "cell_type": "markdown",
   "metadata": {},
   "source": [
    "# Yolo"
   ]
  },
  {
   "cell_type": "code",
   "execution_count": 5,
   "metadata": {},
   "outputs": [
    {
     "name": "stderr",
     "output_type": "stream",
     "text": [
      "<>:21: SyntaxWarning: invalid escape sequence '\\D'\n",
      "<>:21: SyntaxWarning: invalid escape sequence '\\D'\n",
      "C:\\Users\\HP\\AppData\\Local\\Temp\\ipykernel_1668\\2193808117.py:21: SyntaxWarning: invalid escape sequence '\\D'\n",
      "  model.train(data=\"E:\\Dataset\", epochs=5)\n"
     ]
    },
    {
     "name": "stdout",
     "output_type": "stream",
     "text": [
      "Ultralytics 8.3.7  Python-3.12.7 torch-2.4.1+cpu CPU (12th Gen Intel Core(TM) i5-12450H)\n",
      "\u001b[34m\u001b[1mengine\\trainer: \u001b[0mtask=classify, mode=train, model=yolov8n-cls.pt, data=E:\\Dataset, epochs=5, time=None, patience=100, batch=16, imgsz=224, save=True, save_period=-1, cache=False, device=None, workers=8, project=None, name=train3, exist_ok=False, pretrained=True, optimizer=auto, verbose=True, seed=0, deterministic=True, single_cls=False, rect=False, cos_lr=False, close_mosaic=10, resume=False, amp=True, fraction=1.0, profile=False, freeze=None, multi_scale=False, overlap_mask=True, mask_ratio=4, dropout=0.0, val=True, split=val, save_json=False, save_hybrid=False, conf=None, iou=0.7, max_det=300, half=False, dnn=False, plots=True, source=None, vid_stride=1, stream_buffer=False, visualize=False, augment=False, agnostic_nms=False, classes=None, retina_masks=False, embed=None, show=False, save_frames=False, save_txt=False, save_conf=False, save_crop=False, show_labels=True, show_conf=True, show_boxes=True, line_width=None, format=torchscript, keras=False, optimize=False, int8=False, dynamic=False, simplify=True, opset=None, workspace=4, nms=False, lr0=0.01, lrf=0.01, momentum=0.937, weight_decay=0.0005, warmup_epochs=3.0, warmup_momentum=0.8, warmup_bias_lr=0.1, box=7.5, cls=0.5, dfl=1.5, pose=12.0, kobj=1.0, label_smoothing=0.0, nbs=64, hsv_h=0.015, hsv_s=0.7, hsv_v=0.4, degrees=0.0, translate=0.1, scale=0.5, shear=0.0, perspective=0.0, flipud=0.0, fliplr=0.5, bgr=0.0, mosaic=1.0, mixup=0.0, copy_paste=0.0, copy_paste_mode=flip, auto_augment=randaugment, erasing=0.4, crop_fraction=1.0, cfg=None, tracker=botsort.yaml, save_dir=runs\\classify\\train3\n",
      "\u001b[34m\u001b[1mtrain:\u001b[0m E:\\Dataset\\train... found 1128 images in 3 classes  \n",
      "\u001b[34m\u001b[1mval:\u001b[0m E:\\Dataset\\validation... found 79 images in 3 classes  \n",
      "\u001b[34m\u001b[1mtest:\u001b[0m E:\\Dataset\\test... found 204 images in 3 classes  \n",
      "Overriding model.yaml nc=1000 with nc=3\n",
      "\n",
      "                   from  n    params  module                                       arguments                     \n",
      "  0                  -1  1       464  ultralytics.nn.modules.conv.Conv             [3, 16, 3, 2]                 \n",
      "  1                  -1  1      4672  ultralytics.nn.modules.conv.Conv             [16, 32, 3, 2]                \n",
      "  2                  -1  1      7360  ultralytics.nn.modules.block.C2f             [32, 32, 1, True]             \n",
      "  3                  -1  1     18560  ultralytics.nn.modules.conv.Conv             [32, 64, 3, 2]                \n",
      "  4                  -1  2     49664  ultralytics.nn.modules.block.C2f             [64, 64, 2, True]             \n",
      "  5                  -1  1     73984  ultralytics.nn.modules.conv.Conv             [64, 128, 3, 2]               \n",
      "  6                  -1  2    197632  ultralytics.nn.modules.block.C2f             [128, 128, 2, True]           \n",
      "  7                  -1  1    295424  ultralytics.nn.modules.conv.Conv             [128, 256, 3, 2]              \n",
      "  8                  -1  1    460288  ultralytics.nn.modules.block.C2f             [256, 256, 1, True]           \n",
      "  9                  -1  1    334083  ultralytics.nn.modules.head.Classify         [256, 3]                      \n",
      "YOLOv8n-cls summary: 99 layers, 1,442,131 parameters, 1,442,131 gradients, 3.4 GFLOPs\n",
      "Transferred 156/158 items from pretrained weights\n",
      "\u001b[34m\u001b[1mTensorBoard: \u001b[0mStart with 'tensorboard --logdir runs\\classify\\train3', view at http://localhost:6006/\n"
     ]
    },
    {
     "name": "stderr",
     "output_type": "stream",
     "text": [
      "\u001b[34m\u001b[1mtrain: \u001b[0mScanning E:\\Dataset\\train... 1128 images, 0 corrupt: 100%|██████████| 1128/1128 [00:00<?, ?it/s]"
     ]
    },
    {
     "name": "stdout",
     "output_type": "stream",
     "text": [
      "\u001b[34m\u001b[1mtrain: \u001b[0mWARNING  E:\\Dataset\\train\\312\\IMG_20240915_174450_Burst01.jpg: corrupt JPEG restored and saved\n",
      "\u001b[34m\u001b[1mtrain: \u001b[0mWARNING  E:\\Dataset\\train\\312\\IMG_20240915_174450_Burst02.jpg: corrupt JPEG restored and saved\n",
      "\u001b[34m\u001b[1mtrain: \u001b[0mWARNING  E:\\Dataset\\train\\312\\IMG_20240915_174450_Burst03.jpg: corrupt JPEG restored and saved\n",
      "\u001b[34m\u001b[1mtrain: \u001b[0mWARNING  E:\\Dataset\\train\\312\\IMG_20240915_174450_Burst04.jpg: corrupt JPEG restored and saved\n",
      "\u001b[34m\u001b[1mtrain: \u001b[0mWARNING  E:\\Dataset\\train\\312\\IMG_20240915_174450_Burst05.jpg: corrupt JPEG restored and saved\n",
      "\u001b[34m\u001b[1mtrain: \u001b[0mWARNING  E:\\Dataset\\train\\312\\IMG_20240915_174450_Burst06.jpg: corrupt JPEG restored and saved\n",
      "\u001b[34m\u001b[1mtrain: \u001b[0mWARNING  E:\\Dataset\\train\\312\\IMG_20240915_174450_Burst07.jpg: corrupt JPEG restored and saved\n",
      "\u001b[34m\u001b[1mtrain: \u001b[0mWARNING  E:\\Dataset\\train\\312\\IMG_20240915_174450_Burst08.jpg: corrupt JPEG restored and saved\n",
      "\u001b[34m\u001b[1mtrain: \u001b[0mWARNING  E:\\Dataset\\train\\312\\IMG_20240915_174450_Burst09.jpg: corrupt JPEG restored and saved\n",
      "\u001b[34m\u001b[1mtrain: \u001b[0mWARNING  E:\\Dataset\\train\\312\\IMG_20240915_174450_Burst10.jpg: corrupt JPEG restored and saved\n",
      "\u001b[34m\u001b[1mtrain: \u001b[0mWARNING  E:\\Dataset\\train\\312\\IMG_20240915_174450_Burst11.jpg: corrupt JPEG restored and saved\n",
      "\u001b[34m\u001b[1mtrain: \u001b[0mWARNING  E:\\Dataset\\train\\312\\IMG_20240915_174450_Burst12.jpg: corrupt JPEG restored and saved\n",
      "\u001b[34m\u001b[1mtrain: \u001b[0mWARNING  E:\\Dataset\\train\\312\\IMG_20240915_174450_Burst13.jpg: corrupt JPEG restored and saved\n",
      "\u001b[34m\u001b[1mtrain: \u001b[0mWARNING  E:\\Dataset\\train\\312\\IMG_20240915_174450_Burst14.jpg: corrupt JPEG restored and saved\n",
      "\u001b[34m\u001b[1mtrain: \u001b[0mWARNING  E:\\Dataset\\train\\312\\IMG_20240915_174450_Burst15.jpg: corrupt JPEG restored and saved\n",
      "\u001b[34m\u001b[1mtrain: \u001b[0mWARNING  E:\\Dataset\\train\\312\\IMG_20240915_174450_Burst16.jpg: corrupt JPEG restored and saved\n",
      "\u001b[34m\u001b[1mtrain: \u001b[0mWARNING  E:\\Dataset\\train\\312\\IMG_20240915_174450_Burst17.jpg: corrupt JPEG restored and saved\n",
      "\u001b[34m\u001b[1mtrain: \u001b[0mWARNING  E:\\Dataset\\train\\312\\IMG_20240915_174450_Burst18.jpg: corrupt JPEG restored and saved\n",
      "\u001b[34m\u001b[1mtrain: \u001b[0mWARNING  E:\\Dataset\\train\\312\\IMG_20240915_174450_Burst19.jpg: corrupt JPEG restored and saved\n",
      "\u001b[34m\u001b[1mtrain: \u001b[0mWARNING  E:\\Dataset\\train\\312\\IMG_20240915_174812_Burst01.jpg: corrupt JPEG restored and saved\n",
      "\u001b[34m\u001b[1mtrain: \u001b[0mWARNING  E:\\Dataset\\train\\312\\IMG_20240915_174812_Burst02.jpg: corrupt JPEG restored and saved\n",
      "\u001b[34m\u001b[1mtrain: \u001b[0mWARNING  E:\\Dataset\\train\\312\\IMG_20240915_174812_Burst03.jpg: corrupt JPEG restored and saved\n",
      "\u001b[34m\u001b[1mtrain: \u001b[0mWARNING  E:\\Dataset\\train\\312\\IMG_20240915_174812_Burst04.jpg: corrupt JPEG restored and saved\n",
      "\u001b[34m\u001b[1mtrain: \u001b[0mWARNING  E:\\Dataset\\train\\312\\IMG_20240915_174812_Burst05.jpg: corrupt JPEG restored and saved\n",
      "\u001b[34m\u001b[1mtrain: \u001b[0mWARNING  E:\\Dataset\\train\\312\\IMG_20240915_174812_Burst06.jpg: corrupt JPEG restored and saved\n",
      "\u001b[34m\u001b[1mtrain: \u001b[0mWARNING  E:\\Dataset\\train\\312\\IMG_20240915_174812_Burst07.jpg: corrupt JPEG restored and saved\n",
      "\u001b[34m\u001b[1mtrain: \u001b[0mWARNING  E:\\Dataset\\train\\312\\IMG_20240915_174812_Burst08.jpg: corrupt JPEG restored and saved\n",
      "\u001b[34m\u001b[1mtrain: \u001b[0mWARNING  E:\\Dataset\\train\\312\\IMG_20240915_174812_Burst09.jpg: corrupt JPEG restored and saved\n",
      "\u001b[34m\u001b[1mtrain: \u001b[0mWARNING  E:\\Dataset\\train\\312\\IMG_20240915_174812_Burst10.jpg: corrupt JPEG restored and saved\n",
      "\u001b[34m\u001b[1mtrain: \u001b[0mWARNING  E:\\Dataset\\train\\312\\IMG_20240915_174812_Burst11.jpg: corrupt JPEG restored and saved\n",
      "\u001b[34m\u001b[1mtrain: \u001b[0mWARNING  E:\\Dataset\\train\\312\\IMG_20240915_174812_Burst12.jpg: corrupt JPEG restored and saved\n",
      "\u001b[34m\u001b[1mtrain: \u001b[0mWARNING  E:\\Dataset\\train\\312\\IMG_20240915_174812_Burst13.jpg: corrupt JPEG restored and saved\n",
      "\u001b[34m\u001b[1mtrain: \u001b[0mWARNING  E:\\Dataset\\train\\312\\IMG_20240915_174812_Burst14.jpg: corrupt JPEG restored and saved\n",
      "\u001b[34m\u001b[1mtrain: \u001b[0mWARNING  E:\\Dataset\\train\\312\\IMG_20240915_174812_Burst15.jpg: corrupt JPEG restored and saved\n",
      "\u001b[34m\u001b[1mtrain: \u001b[0mWARNING  E:\\Dataset\\train\\312\\IMG_20240915_174812_Burst16.jpg: corrupt JPEG restored and saved\n",
      "\u001b[34m\u001b[1mtrain: \u001b[0mWARNING  E:\\Dataset\\train\\312\\IMG_20240915_174812_Burst17.jpg: corrupt JPEG restored and saved\n",
      "\u001b[34m\u001b[1mtrain: \u001b[0mWARNING  E:\\Dataset\\train\\312\\IMG_20240915_174812_Burst18.jpg: corrupt JPEG restored and saved\n",
      "\u001b[34m\u001b[1mtrain: \u001b[0mWARNING  E:\\Dataset\\train\\312\\IMG_20240915_174812_Burst19.jpg: corrupt JPEG restored and saved\n",
      "\u001b[34m\u001b[1mtrain: \u001b[0mWARNING  E:\\Dataset\\train\\312\\IMG_20240915_174812_Burst20.jpg: corrupt JPEG restored and saved\n",
      "\u001b[34m\u001b[1mtrain: \u001b[0mWARNING  E:\\Dataset\\train\\312\\IMG_20240915_174857.jpg: corrupt JPEG restored and saved\n",
      "\u001b[34m\u001b[1mtrain: \u001b[0mWARNING  E:\\Dataset\\train\\312\\IMG_20240915_174858.jpg: corrupt JPEG restored and saved\n",
      "\u001b[34m\u001b[1mtrain: \u001b[0mWARNING  E:\\Dataset\\train\\312\\IMG_20240915_174902.jpg: corrupt JPEG restored and saved\n",
      "\u001b[34m\u001b[1mtrain: \u001b[0mWARNING  E:\\Dataset\\train\\312\\IMG_20240915_174910.jpg: corrupt JPEG restored and saved\n",
      "\u001b[34m\u001b[1mtrain: \u001b[0mWARNING  E:\\Dataset\\train\\312\\IMG_20240915_174913.jpg: corrupt JPEG restored and saved\n",
      "\u001b[34m\u001b[1mtrain: \u001b[0mWARNING  E:\\Dataset\\train\\312\\IMG_20240915_174922.jpg: corrupt JPEG restored and saved\n",
      "\u001b[34m\u001b[1mtrain: \u001b[0mWARNING  E:\\Dataset\\train\\312\\IMG_20240915_175011.jpg: corrupt JPEG restored and saved\n",
      "\u001b[34m\u001b[1mtrain: \u001b[0mWARNING  E:\\Dataset\\train\\312\\IMG_20240915_175018.jpg: corrupt JPEG restored and saved\n",
      "\u001b[34m\u001b[1mtrain: \u001b[0mWARNING  E:\\Dataset\\train\\312\\IMG_20240915_175140.jpg: corrupt JPEG restored and saved\n",
      "\u001b[34m\u001b[1mtrain: \u001b[0mWARNING  E:\\Dataset\\train\\312\\IMG_20240915_175156.jpg: corrupt JPEG restored and saved\n",
      "\u001b[34m\u001b[1mtrain: \u001b[0mWARNING  E:\\Dataset\\train\\312\\IMG_20240915_175200.jpg: corrupt JPEG restored and saved\n",
      "\u001b[34m\u001b[1mtrain: \u001b[0mWARNING  E:\\Dataset\\train\\312\\IMG_20240915_175723.jpg: corrupt JPEG restored and saved\n",
      "\u001b[34m\u001b[1mtrain: \u001b[0mWARNING  E:\\Dataset\\train\\312\\IMG_20240915_175730.jpg: corrupt JPEG restored and saved\n",
      "\u001b[34m\u001b[1mtrain: \u001b[0mWARNING  E:\\Dataset\\train\\312\\IMG_20240915_175759.jpg: corrupt JPEG restored and saved\n",
      "\u001b[34m\u001b[1mtrain: \u001b[0mWARNING  E:\\Dataset\\train\\312\\IMG_20240915_175820.jpg: corrupt JPEG restored and saved\n",
      "\u001b[34m\u001b[1mtrain: \u001b[0mWARNING  E:\\Dataset\\train\\312\\IMG_20240915_175824.jpg: corrupt JPEG restored and saved\n",
      "\u001b[34m\u001b[1mtrain: \u001b[0mWARNING  E:\\Dataset\\train\\312\\IMG_20240915_175826.jpg: corrupt JPEG restored and saved\n",
      "\u001b[34m\u001b[1mtrain: \u001b[0mWARNING  E:\\Dataset\\train\\312\\IMG_20240915_175830.jpg: corrupt JPEG restored and saved\n",
      "\u001b[34m\u001b[1mtrain: \u001b[0mWARNING  E:\\Dataset\\train\\312\\IMG_20240915_175934.jpg: corrupt JPEG restored and saved\n",
      "\u001b[34m\u001b[1mtrain: \u001b[0mWARNING  E:\\Dataset\\train\\312\\IMG_20240915_175942.jpg: corrupt JPEG restored and saved\n",
      "\u001b[34m\u001b[1mtrain: \u001b[0mWARNING  E:\\Dataset\\train\\312\\IMG_20240915_180312.jpg: corrupt JPEG restored and saved\n",
      "\u001b[34m\u001b[1mtrain: \u001b[0mWARNING  E:\\Dataset\\train\\312\\IMG_20240915_180345.jpg: corrupt JPEG restored and saved\n",
      "\u001b[34m\u001b[1mtrain: \u001b[0mWARNING  E:\\Dataset\\train\\312\\IMG_20240915_180348.jpg: corrupt JPEG restored and saved\n",
      "\u001b[34m\u001b[1mtrain: \u001b[0mWARNING  E:\\Dataset\\train\\312\\IMG_20240915_180350.jpg: corrupt JPEG restored and saved\n",
      "\u001b[34m\u001b[1mtrain: \u001b[0mWARNING  E:\\Dataset\\train\\312\\IMG_20240915_180352.jpg: corrupt JPEG restored and saved\n",
      "\u001b[34m\u001b[1mtrain: \u001b[0mWARNING  E:\\Dataset\\train\\312\\IMG_20240915_180358.jpg: corrupt JPEG restored and saved\n",
      "\u001b[34m\u001b[1mtrain: \u001b[0mWARNING  E:\\Dataset\\train\\312\\IMG_20240915_180403.jpg: corrupt JPEG restored and saved\n",
      "\u001b[34m\u001b[1mtrain: \u001b[0mWARNING  E:\\Dataset\\train\\312\\IMG_20240915_180405.jpg: corrupt JPEG restored and saved\n",
      "\u001b[34m\u001b[1mtrain: \u001b[0mWARNING  E:\\Dataset\\train\\Aajra Ghanasal\\IMG_20240915_122222_Burst01.jpg: corrupt JPEG restored and saved\n",
      "\u001b[34m\u001b[1mtrain: \u001b[0mWARNING  E:\\Dataset\\train\\Aajra Ghanasal\\IMG_20240915_122222_Burst02.jpg: corrupt JPEG restored and saved\n",
      "\u001b[34m\u001b[1mtrain: \u001b[0mWARNING  E:\\Dataset\\train\\Aajra Ghanasal\\IMG_20240915_122222_Burst03.jpg: corrupt JPEG restored and saved\n",
      "\u001b[34m\u001b[1mtrain: \u001b[0mWARNING  E:\\Dataset\\train\\Aajra Ghanasal\\IMG_20240915_122222_Burst04.jpg: corrupt JPEG restored and saved\n",
      "\u001b[34m\u001b[1mtrain: \u001b[0mWARNING  E:\\Dataset\\train\\Aajra Ghanasal\\IMG_20240915_122222_Burst05.jpg: corrupt JPEG restored and saved\n",
      "\u001b[34m\u001b[1mtrain: \u001b[0mWARNING  E:\\Dataset\\train\\Aajra Ghanasal\\IMG_20240915_122222_Burst06.jpg: corrupt JPEG restored and saved\n",
      "\u001b[34m\u001b[1mtrain: \u001b[0mWARNING  E:\\Dataset\\train\\Aajra Ghanasal\\IMG_20240915_122222_Burst07.jpg: corrupt JPEG restored and saved\n",
      "\u001b[34m\u001b[1mtrain: \u001b[0mWARNING  E:\\Dataset\\train\\Aajra Ghanasal\\IMG_20240915_122222_Burst08.jpg: corrupt JPEG restored and saved\n",
      "\u001b[34m\u001b[1mtrain: \u001b[0mWARNING  E:\\Dataset\\train\\Aajra Ghanasal\\IMG_20240915_122222_Burst09.jpg: corrupt JPEG restored and saved\n",
      "\u001b[34m\u001b[1mtrain: \u001b[0mWARNING  E:\\Dataset\\train\\Aajra Ghanasal\\IMG_20240915_122222_Burst10.jpg: corrupt JPEG restored and saved\n",
      "\u001b[34m\u001b[1mtrain: \u001b[0mWARNING  E:\\Dataset\\train\\Aajra Ghanasal\\IMG_20240915_122222_Burst11.jpg: corrupt JPEG restored and saved\n",
      "\u001b[34m\u001b[1mtrain: \u001b[0mWARNING  E:\\Dataset\\train\\Aajra Ghanasal\\IMG_20240915_122222_Burst12.jpg: corrupt JPEG restored and saved\n",
      "\u001b[34m\u001b[1mtrain: \u001b[0mWARNING  E:\\Dataset\\train\\Aajra Ghanasal\\IMG_20240915_122222_Burst13.jpg: corrupt JPEG restored and saved\n",
      "\u001b[34m\u001b[1mtrain: \u001b[0mWARNING  E:\\Dataset\\train\\Aajra Ghanasal\\IMG_20240915_122222_Burst14.jpg: corrupt JPEG restored and saved\n",
      "\u001b[34m\u001b[1mtrain: \u001b[0mWARNING  E:\\Dataset\\train\\Aajra Ghanasal\\IMG_20240915_122222_Burst15.jpg: corrupt JPEG restored and saved\n",
      "\u001b[34m\u001b[1mtrain: \u001b[0mWARNING  E:\\Dataset\\train\\Aajra Ghanasal\\IMG_20240915_122222_Burst16.jpg: corrupt JPEG restored and saved\n",
      "\u001b[34m\u001b[1mtrain: \u001b[0mWARNING  E:\\Dataset\\train\\Aajra Ghanasal\\IMG_20240915_122222_Burst17.jpg: corrupt JPEG restored and saved\n",
      "\u001b[34m\u001b[1mtrain: \u001b[0mWARNING  E:\\Dataset\\train\\Aajra Ghanasal\\IMG_20240915_122222_Burst18.jpg: corrupt JPEG restored and saved\n",
      "\u001b[34m\u001b[1mtrain: \u001b[0mWARNING  E:\\Dataset\\train\\Aajra Ghanasal\\IMG_20240915_122222_Burst19.jpg: corrupt JPEG restored and saved\n",
      "\u001b[34m\u001b[1mtrain: \u001b[0mWARNING  E:\\Dataset\\train\\Aajra Ghanasal\\IMG_20240915_122222_Burst20.jpg: corrupt JPEG restored and saved\n",
      "\u001b[34m\u001b[1mtrain: \u001b[0mWARNING  E:\\Dataset\\train\\Aajra Ghanasal\\IMG_20240915_122620.jpg: corrupt JPEG restored and saved\n",
      "\u001b[34m\u001b[1mtrain: \u001b[0mWARNING  E:\\Dataset\\train\\Aajra Ghanasal\\IMG_20240915_122627.jpg: corrupt JPEG restored and saved\n",
      "\u001b[34m\u001b[1mtrain: \u001b[0mWARNING  E:\\Dataset\\train\\Aajra Ghanasal\\IMG_20240915_122629.jpg: corrupt JPEG restored and saved\n",
      "\u001b[34m\u001b[1mtrain: \u001b[0mWARNING  E:\\Dataset\\train\\Aajra Ghanasal\\IMG_20240915_122641.jpg: corrupt JPEG restored and saved\n",
      "\u001b[34m\u001b[1mtrain: \u001b[0mWARNING  E:\\Dataset\\train\\Aajra Ghanasal\\IMG_20240915_122643.jpg: corrupt JPEG restored and saved\n",
      "\u001b[34m\u001b[1mtrain: \u001b[0mWARNING  E:\\Dataset\\train\\Aajra Ghanasal\\IMG_20240915_122648.jpg: corrupt JPEG restored and saved\n",
      "\u001b[34m\u001b[1mtrain: \u001b[0mWARNING  E:\\Dataset\\train\\Aajra Ghanasal\\IMG_20240915_122657.jpg: corrupt JPEG restored and saved\n",
      "\u001b[34m\u001b[1mtrain: \u001b[0mWARNING  E:\\Dataset\\train\\Aajra Ghanasal\\IMG_20240915_122708.jpg: corrupt JPEG restored and saved\n",
      "\u001b[34m\u001b[1mtrain: \u001b[0mWARNING  E:\\Dataset\\train\\Aajra Ghanasal\\IMG_20240915_122709.jpg: corrupt JPEG restored and saved\n",
      "\u001b[34m\u001b[1mtrain: \u001b[0mWARNING  E:\\Dataset\\train\\Aajra Ghanasal\\IMG_20240915_122713.jpg: corrupt JPEG restored and saved\n",
      "\u001b[34m\u001b[1mtrain: \u001b[0mWARNING  E:\\Dataset\\train\\Aajra Ghanasal\\IMG_20240915_122714.jpg: corrupt JPEG restored and saved\n",
      "\u001b[34m\u001b[1mtrain: \u001b[0mWARNING  E:\\Dataset\\train\\Aajra Ghanasal\\IMG_20240915_123137_Burst15.jpg: corrupt JPEG restored and saved\n",
      "\u001b[34m\u001b[1mtrain: \u001b[0mWARNING  E:\\Dataset\\train\\Aajra Ghanasal\\IMG_20240915_123156_Burst01.jpg: corrupt JPEG restored and saved\n",
      "\u001b[34m\u001b[1mtrain: \u001b[0mWARNING  E:\\Dataset\\train\\Aajra Ghanasal\\IMG_20240915_123156_Burst02.jpg: corrupt JPEG restored and saved\n",
      "\u001b[34m\u001b[1mtrain: \u001b[0mWARNING  E:\\Dataset\\train\\Aajra Ghanasal\\IMG_20240915_123156_Burst03.jpg: corrupt JPEG restored and saved\n",
      "\u001b[34m\u001b[1mtrain: \u001b[0mWARNING  E:\\Dataset\\train\\Aajra Ghanasal\\IMG_20240915_123156_Burst04.jpg: corrupt JPEG restored and saved\n",
      "\u001b[34m\u001b[1mtrain: \u001b[0mWARNING  E:\\Dataset\\train\\Aajra Ghanasal\\IMG_20240915_123156_Burst05.jpg: corrupt JPEG restored and saved\n",
      "\u001b[34m\u001b[1mtrain: \u001b[0mWARNING  E:\\Dataset\\train\\Aajra Ghanasal\\IMG_20240915_123156_Burst06.jpg: corrupt JPEG restored and saved\n",
      "\u001b[34m\u001b[1mtrain: \u001b[0mWARNING  E:\\Dataset\\train\\Aajra Ghanasal\\IMG_20240915_123156_Burst07.jpg: corrupt JPEG restored and saved\n",
      "\u001b[34m\u001b[1mtrain: \u001b[0mWARNING  E:\\Dataset\\train\\Aajra Ghanasal\\IMG_20240915_123156_Burst08.jpg: corrupt JPEG restored and saved\n",
      "\u001b[34m\u001b[1mtrain: \u001b[0mWARNING  E:\\Dataset\\train\\Aajra Ghanasal\\IMG_20240915_123156_Burst09.jpg: corrupt JPEG restored and saved\n",
      "\u001b[34m\u001b[1mtrain: \u001b[0mWARNING  E:\\Dataset\\train\\Aajra Ghanasal\\IMG_20240915_123156_Burst10.jpg: corrupt JPEG restored and saved\n",
      "\u001b[34m\u001b[1mtrain: \u001b[0mWARNING  E:\\Dataset\\train\\Aajra Ghanasal\\IMG_20240915_123156_Burst11.jpg: corrupt JPEG restored and saved\n",
      "\u001b[34m\u001b[1mtrain: \u001b[0mWARNING  E:\\Dataset\\train\\Aajra Ghanasal\\IMG_20240915_123156_Burst12.jpg: corrupt JPEG restored and saved\n",
      "\u001b[34m\u001b[1mtrain: \u001b[0mWARNING  E:\\Dataset\\train\\Aajra Ghanasal\\IMG_20240915_123156_Burst13.jpg: corrupt JPEG restored and saved\n",
      "\u001b[34m\u001b[1mtrain: \u001b[0mWARNING  E:\\Dataset\\train\\Aajra Ghanasal\\IMG_20240915_123156_Burst14.jpg: corrupt JPEG restored and saved\n",
      "\u001b[34m\u001b[1mtrain: \u001b[0mWARNING  E:\\Dataset\\train\\Aajra Ghanasal\\IMG_20240915_123156_Burst15.jpg: corrupt JPEG restored and saved\n",
      "\u001b[34m\u001b[1mtrain: \u001b[0mWARNING  E:\\Dataset\\train\\Aajra Ghanasal\\IMG_20240915_123156_Burst16.jpg: corrupt JPEG restored and saved\n",
      "\u001b[34m\u001b[1mtrain: \u001b[0mWARNING  E:\\Dataset\\train\\Aajra Ghanasal\\IMG_20240915_123156_Burst17.jpg: corrupt JPEG restored and saved\n",
      "\u001b[34m\u001b[1mtrain: \u001b[0mWARNING  E:\\Dataset\\train\\Aajra Ghanasal\\IMG_20240915_123156_Burst18.jpg: corrupt JPEG restored and saved\n",
      "\u001b[34m\u001b[1mtrain: \u001b[0mWARNING  E:\\Dataset\\train\\Aajra Ghanasal\\IMG_20240915_123156_Burst19.jpg: corrupt JPEG restored and saved\n",
      "\u001b[34m\u001b[1mtrain: \u001b[0mWARNING  E:\\Dataset\\train\\Aajra Ghanasal\\IMG_20240915_123156_Burst20.jpg: corrupt JPEG restored and saved\n",
      "\u001b[34m\u001b[1mtrain: \u001b[0mWARNING  E:\\Dataset\\train\\Aajra Ghanasal\\IMG_20240915_123351_Burst01.jpg: corrupt JPEG restored and saved\n",
      "\u001b[34m\u001b[1mtrain: \u001b[0mWARNING  E:\\Dataset\\train\\Aajra Ghanasal\\IMG_20240915_123351_Burst02.jpg: corrupt JPEG restored and saved\n",
      "\u001b[34m\u001b[1mtrain: \u001b[0mWARNING  E:\\Dataset\\train\\Aajra Ghanasal\\IMG_20240915_123351_Burst03.jpg: corrupt JPEG restored and saved\n",
      "\u001b[34m\u001b[1mtrain: \u001b[0mWARNING  E:\\Dataset\\train\\Aajra Ghanasal\\IMG_20240915_123351_Burst04.jpg: corrupt JPEG restored and saved\n",
      "\u001b[34m\u001b[1mtrain: \u001b[0mWARNING  E:\\Dataset\\train\\Aajra Ghanasal\\IMG_20240915_123351_Burst05.jpg: corrupt JPEG restored and saved\n",
      "\u001b[34m\u001b[1mtrain: \u001b[0mWARNING  E:\\Dataset\\train\\Aajra Ghanasal\\IMG_20240915_123351_Burst06.jpg: corrupt JPEG restored and saved\n",
      "\u001b[34m\u001b[1mtrain: \u001b[0mWARNING  E:\\Dataset\\train\\Aajra Ghanasal\\IMG_20240915_123351_Burst07.jpg: corrupt JPEG restored and saved\n",
      "\u001b[34m\u001b[1mtrain: \u001b[0mWARNING  E:\\Dataset\\train\\Aajra Ghanasal\\IMG_20240915_123351_Burst08.jpg: corrupt JPEG restored and saved\n",
      "\u001b[34m\u001b[1mtrain: \u001b[0mWARNING  E:\\Dataset\\train\\Aajra Ghanasal\\IMG_20240915_123351_Burst09.jpg: corrupt JPEG restored and saved\n",
      "\u001b[34m\u001b[1mtrain: \u001b[0mWARNING  E:\\Dataset\\train\\Aajra Ghanasal\\IMG_20240915_123351_Burst10.jpg: corrupt JPEG restored and saved\n",
      "\u001b[34m\u001b[1mtrain: \u001b[0mWARNING  E:\\Dataset\\train\\Aajra Ghanasal\\IMG_20240915_123351_Burst11.jpg: corrupt JPEG restored and saved\n",
      "\u001b[34m\u001b[1mtrain: \u001b[0mWARNING  E:\\Dataset\\train\\Aajra Ghanasal\\IMG_20240915_123351_Burst12.jpg: corrupt JPEG restored and saved\n",
      "\u001b[34m\u001b[1mtrain: \u001b[0mWARNING  E:\\Dataset\\train\\Aajra Ghanasal\\IMG_20240915_123351_Burst13.jpg: corrupt JPEG restored and saved\n",
      "\u001b[34m\u001b[1mtrain: \u001b[0mWARNING  E:\\Dataset\\train\\Aajra Ghanasal\\IMG_20240915_123351_Burst14.jpg: corrupt JPEG restored and saved\n",
      "\u001b[34m\u001b[1mtrain: \u001b[0mWARNING  E:\\Dataset\\train\\Aajra Ghanasal\\IMG_20240915_123351_Burst15.jpg: corrupt JPEG restored and saved\n",
      "\u001b[34m\u001b[1mtrain: \u001b[0mWARNING  E:\\Dataset\\train\\Aajra Ghanasal\\IMG_20240915_123351_Burst16.jpg: corrupt JPEG restored and saved\n",
      "\u001b[34m\u001b[1mtrain: \u001b[0mWARNING  E:\\Dataset\\train\\Aajra Ghanasal\\IMG_20240915_123351_Burst17.jpg: corrupt JPEG restored and saved\n",
      "\u001b[34m\u001b[1mtrain: \u001b[0mWARNING  E:\\Dataset\\train\\Aajra Ghanasal\\IMG_20240915_123351_Burst18.jpg: corrupt JPEG restored and saved\n",
      "\u001b[34m\u001b[1mtrain: \u001b[0mWARNING  E:\\Dataset\\train\\Aajra Ghanasal\\IMG_20240915_123351_Burst19.jpg: corrupt JPEG restored and saved\n",
      "\u001b[34m\u001b[1mtrain: \u001b[0mWARNING  E:\\Dataset\\train\\Aajra Ghanasal\\IMG_20240915_123351_Burst20.jpg: corrupt JPEG restored and saved\n",
      "\u001b[34m\u001b[1mtrain: \u001b[0mWARNING  E:\\Dataset\\train\\Aajra Ghanasal\\IMG_20240915_123936.jpg: corrupt JPEG restored and saved\n",
      "\u001b[34m\u001b[1mtrain: \u001b[0mWARNING  E:\\Dataset\\train\\Aajra Ghanasal\\IMG_20240915_124011.jpg: corrupt JPEG restored and saved\n",
      "\u001b[34m\u001b[1mtrain: \u001b[0mWARNING  E:\\Dataset\\train\\Aajra Ghanasal\\IMG_20240915_124136_Burst20.jpg: corrupt JPEG restored and saved\n",
      "\u001b[34m\u001b[1mtrain: \u001b[0mWARNING  E:\\Dataset\\train\\Aajra Ghanasal\\IMG_20240915_124323_Burst01.jpg: corrupt JPEG restored and saved\n",
      "\u001b[34m\u001b[1mtrain: \u001b[0mWARNING  E:\\Dataset\\train\\Aajra Ghanasal\\IMG_20240915_124323_Burst02.jpg: corrupt JPEG restored and saved\n",
      "\u001b[34m\u001b[1mtrain: \u001b[0mWARNING  E:\\Dataset\\train\\Aajra Ghanasal\\IMG_20240915_124323_Burst03.jpg: corrupt JPEG restored and saved\n",
      "\u001b[34m\u001b[1mtrain: \u001b[0mWARNING  E:\\Dataset\\train\\Aajra Ghanasal\\IMG_20240915_124323_Burst04.jpg: corrupt JPEG restored and saved\n",
      "\u001b[34m\u001b[1mtrain: \u001b[0mWARNING  E:\\Dataset\\train\\Aajra Ghanasal\\IMG_20240915_124323_Burst05.jpg: corrupt JPEG restored and saved\n",
      "\u001b[34m\u001b[1mtrain: \u001b[0mWARNING  E:\\Dataset\\train\\Aajra Ghanasal\\IMG_20240915_124323_Burst06.jpg: corrupt JPEG restored and saved\n",
      "\u001b[34m\u001b[1mtrain: \u001b[0mWARNING  E:\\Dataset\\train\\Aajra Ghanasal\\IMG_20240915_124323_Burst07.jpg: corrupt JPEG restored and saved\n",
      "\u001b[34m\u001b[1mtrain: \u001b[0mWARNING  E:\\Dataset\\train\\Aajra Ghanasal\\IMG_20240915_124323_Burst08.jpg: corrupt JPEG restored and saved\n",
      "\u001b[34m\u001b[1mtrain: \u001b[0mWARNING  E:\\Dataset\\train\\Aajra Ghanasal\\IMG_20240915_124323_Burst09.jpg: corrupt JPEG restored and saved\n",
      "\u001b[34m\u001b[1mtrain: \u001b[0mWARNING  E:\\Dataset\\train\\Aajra Ghanasal\\IMG_20240915_124323_Burst10.jpg: corrupt JPEG restored and saved\n",
      "\u001b[34m\u001b[1mtrain: \u001b[0mWARNING  E:\\Dataset\\train\\Aajra Ghanasal\\IMG_20240915_124323_Burst11.jpg: corrupt JPEG restored and saved\n",
      "\u001b[34m\u001b[1mtrain: \u001b[0mWARNING  E:\\Dataset\\train\\Aajra Ghanasal\\IMG_20240915_124323_Burst12.jpg: corrupt JPEG restored and saved\n",
      "\u001b[34m\u001b[1mtrain: \u001b[0mWARNING  E:\\Dataset\\train\\Aajra Ghanasal\\IMG_20240915_124323_Burst13.jpg: corrupt JPEG restored and saved\n",
      "\u001b[34m\u001b[1mtrain: \u001b[0mWARNING  E:\\Dataset\\train\\Aajra Ghanasal\\IMG_20240915_124323_Burst14.jpg: corrupt JPEG restored and saved\n",
      "\u001b[34m\u001b[1mtrain: \u001b[0mWARNING  E:\\Dataset\\train\\Aajra Ghanasal\\IMG_20240915_124323_Burst15.jpg: corrupt JPEG restored and saved\n",
      "\u001b[34m\u001b[1mtrain: \u001b[0mWARNING  E:\\Dataset\\train\\Aajra Ghanasal\\IMG_20240915_124323_Burst16.jpg: corrupt JPEG restored and saved\n",
      "\u001b[34m\u001b[1mtrain: \u001b[0mWARNING  E:\\Dataset\\train\\Aajra Ghanasal\\IMG_20240915_124323_Burst17.jpg: corrupt JPEG restored and saved\n",
      "\u001b[34m\u001b[1mtrain: \u001b[0mWARNING  E:\\Dataset\\train\\Aajra Ghanasal\\IMG_20240915_124323_Burst18.jpg: corrupt JPEG restored and saved\n",
      "\u001b[34m\u001b[1mtrain: \u001b[0mWARNING  E:\\Dataset\\train\\Aajra Ghanasal\\IMG_20240915_124323_Burst19.jpg: corrupt JPEG restored and saved\n",
      "\u001b[34m\u001b[1mtrain: \u001b[0mWARNING  E:\\Dataset\\train\\Aajra Ghanasal\\IMG_20240915_124323_Burst20.jpg: corrupt JPEG restored and saved\n",
      "\u001b[34m\u001b[1mtrain: \u001b[0mWARNING  E:\\Dataset\\train\\Aajra Ghanasal\\IMG_20240915_124406_Burst01.jpg: corrupt JPEG restored and saved\n",
      "\u001b[34m\u001b[1mtrain: \u001b[0mWARNING  E:\\Dataset\\train\\Aajra Ghanasal\\IMG_20240915_124406_Burst02.jpg: corrupt JPEG restored and saved\n",
      "\u001b[34m\u001b[1mtrain: \u001b[0mWARNING  E:\\Dataset\\train\\Aajra Ghanasal\\IMG_20240915_124406_Burst03.jpg: corrupt JPEG restored and saved\n",
      "\u001b[34m\u001b[1mtrain: \u001b[0mWARNING  E:\\Dataset\\train\\Aajra Ghanasal\\IMG_20240915_124406_Burst04.jpg: corrupt JPEG restored and saved\n",
      "\u001b[34m\u001b[1mtrain: \u001b[0mWARNING  E:\\Dataset\\train\\Aajra Ghanasal\\IMG_20240915_124406_Burst05.jpg: corrupt JPEG restored and saved\n",
      "\u001b[34m\u001b[1mtrain: \u001b[0mWARNING  E:\\Dataset\\train\\Aajra Ghanasal\\IMG_20240915_124406_Burst06.jpg: corrupt JPEG restored and saved\n",
      "\u001b[34m\u001b[1mtrain: \u001b[0mWARNING  E:\\Dataset\\train\\Aajra Ghanasal\\IMG_20240915_124406_Burst07.jpg: corrupt JPEG restored and saved\n",
      "\u001b[34m\u001b[1mtrain: \u001b[0mWARNING  E:\\Dataset\\train\\Aajra Ghanasal\\IMG_20240915_124406_Burst08.jpg: corrupt JPEG restored and saved\n",
      "\u001b[34m\u001b[1mtrain: \u001b[0mWARNING  E:\\Dataset\\train\\Aajra Ghanasal\\IMG_20240915_124406_Burst09.jpg: corrupt JPEG restored and saved\n",
      "\u001b[34m\u001b[1mtrain: \u001b[0mWARNING  E:\\Dataset\\train\\Aajra Ghanasal\\IMG_20240915_124406_Burst10.jpg: corrupt JPEG restored and saved\n",
      "\u001b[34m\u001b[1mtrain: \u001b[0mWARNING  E:\\Dataset\\train\\Aajra Ghanasal\\IMG_20240915_124406_Burst11.jpg: corrupt JPEG restored and saved\n",
      "\u001b[34m\u001b[1mtrain: \u001b[0mWARNING  E:\\Dataset\\train\\Aajra Ghanasal\\IMG_20240915_124406_Burst12.jpg: corrupt JPEG restored and saved\n",
      "\u001b[34m\u001b[1mtrain: \u001b[0mWARNING  E:\\Dataset\\train\\Aajra Ghanasal\\IMG_20240915_124406_Burst13.jpg: corrupt JPEG restored and saved\n",
      "\u001b[34m\u001b[1mtrain: \u001b[0mWARNING  E:\\Dataset\\train\\Aajra Ghanasal\\IMG_20240915_124406_Burst14.jpg: corrupt JPEG restored and saved\n",
      "\u001b[34m\u001b[1mtrain: \u001b[0mWARNING  E:\\Dataset\\train\\Aajra Ghanasal\\IMG_20240915_124406_Burst15.jpg: corrupt JPEG restored and saved\n",
      "\u001b[34m\u001b[1mtrain: \u001b[0mWARNING  E:\\Dataset\\train\\Aajra Ghanasal\\IMG_20240915_124406_Burst16.jpg: corrupt JPEG restored and saved\n",
      "\u001b[34m\u001b[1mtrain: \u001b[0mWARNING  E:\\Dataset\\train\\Aajra Ghanasal\\IMG_20240915_124621_Burst02.jpg: corrupt JPEG restored and saved\n",
      "\u001b[34m\u001b[1mtrain: \u001b[0mWARNING  E:\\Dataset\\train\\Aajra Ghanasal\\IMG_20240915_124621_Burst03.jpg: corrupt JPEG restored and saved\n",
      "\u001b[34m\u001b[1mtrain: \u001b[0mWARNING  E:\\Dataset\\train\\Aajra Ghanasal\\IMG_20240915_124621_Burst04.jpg: corrupt JPEG restored and saved\n",
      "\u001b[34m\u001b[1mtrain: \u001b[0mWARNING  E:\\Dataset\\train\\Aajra Ghanasal\\IMG_20240915_124621_Burst05.jpg: corrupt JPEG restored and saved\n",
      "\u001b[34m\u001b[1mtrain: \u001b[0mWARNING  E:\\Dataset\\train\\Aajra Ghanasal\\IMG_20240915_124621_Burst06.jpg: corrupt JPEG restored and saved\n",
      "\u001b[34m\u001b[1mtrain: \u001b[0mWARNING  E:\\Dataset\\train\\Aajra Ghanasal\\IMG_20240915_124621_Burst07.jpg: corrupt JPEG restored and saved\n",
      "\u001b[34m\u001b[1mtrain: \u001b[0mWARNING  E:\\Dataset\\train\\Aajra Ghanasal\\IMG_20240915_124621_Burst08.jpg: corrupt JPEG restored and saved\n",
      "\u001b[34m\u001b[1mtrain: \u001b[0mWARNING  E:\\Dataset\\train\\Aajra Ghanasal\\IMG_20240915_124621_Burst09.jpg: corrupt JPEG restored and saved\n",
      "\u001b[34m\u001b[1mtrain: \u001b[0mWARNING  E:\\Dataset\\train\\Aajra Ghanasal\\IMG_20240915_124621_Burst10.jpg: corrupt JPEG restored and saved\n",
      "\u001b[34m\u001b[1mtrain: \u001b[0mWARNING  E:\\Dataset\\train\\Aajra Ghanasal\\IMG_20240915_124621_Burst11.jpg: corrupt JPEG restored and saved\n",
      "\u001b[34m\u001b[1mtrain: \u001b[0mWARNING  E:\\Dataset\\train\\Aajra Ghanasal\\IMG_20240915_124621_Burst12.jpg: corrupt JPEG restored and saved\n",
      "\u001b[34m\u001b[1mtrain: \u001b[0mWARNING  E:\\Dataset\\train\\Aajra Ghanasal\\IMG_20240915_124621_Burst13.jpg: corrupt JPEG restored and saved\n",
      "\u001b[34m\u001b[1mtrain: \u001b[0mWARNING  E:\\Dataset\\train\\Aajra Ghanasal\\IMG_20240915_124621_Burst14.jpg: corrupt JPEG restored and saved\n",
      "\u001b[34m\u001b[1mtrain: \u001b[0mWARNING  E:\\Dataset\\train\\Aajra Ghanasal\\IMG_20240915_124621_Burst15.jpg: corrupt JPEG restored and saved\n",
      "\u001b[34m\u001b[1mtrain: \u001b[0mWARNING  E:\\Dataset\\train\\Aajra Ghanasal\\IMG_20240915_124752_Burst01.jpg: corrupt JPEG restored and saved\n",
      "\u001b[34m\u001b[1mtrain: \u001b[0mWARNING  E:\\Dataset\\train\\Aajra Ghanasal\\IMG_20240915_124752_Burst02.jpg: corrupt JPEG restored and saved\n",
      "\u001b[34m\u001b[1mtrain: \u001b[0mWARNING  E:\\Dataset\\train\\Aajra Ghanasal\\IMG_20240915_124752_Burst03.jpg: corrupt JPEG restored and saved\n",
      "\u001b[34m\u001b[1mtrain: \u001b[0mWARNING  E:\\Dataset\\train\\Aajra Ghanasal\\IMG_20240915_124752_Burst04.jpg: corrupt JPEG restored and saved\n",
      "\u001b[34m\u001b[1mtrain: \u001b[0mWARNING  E:\\Dataset\\train\\Aajra Ghanasal\\IMG_20240915_124752_Burst05.jpg: corrupt JPEG restored and saved\n",
      "\u001b[34m\u001b[1mtrain: \u001b[0mWARNING  E:\\Dataset\\train\\Aajra Ghanasal\\IMG_20240915_124752_Burst06.jpg: corrupt JPEG restored and saved\n",
      "\u001b[34m\u001b[1mtrain: \u001b[0mWARNING  E:\\Dataset\\train\\Aajra Ghanasal\\IMG_20240915_124752_Burst07.jpg: corrupt JPEG restored and saved\n",
      "\u001b[34m\u001b[1mtrain: \u001b[0mWARNING  E:\\Dataset\\train\\Aajra Ghanasal\\IMG_20240915_124752_Burst08.jpg: corrupt JPEG restored and saved\n",
      "\u001b[34m\u001b[1mtrain: \u001b[0mWARNING  E:\\Dataset\\train\\Aajra Ghanasal\\IMG_20240915_124752_Burst09.jpg: corrupt JPEG restored and saved\n",
      "\u001b[34m\u001b[1mtrain: \u001b[0mWARNING  E:\\Dataset\\train\\Aajra Ghanasal\\IMG_20240915_124752_Burst10.jpg: corrupt JPEG restored and saved\n",
      "\u001b[34m\u001b[1mtrain: \u001b[0mWARNING  E:\\Dataset\\train\\Aajra Ghanasal\\IMG_20240915_124752_Burst11.jpg: corrupt JPEG restored and saved\n",
      "\u001b[34m\u001b[1mtrain: \u001b[0mWARNING  E:\\Dataset\\train\\Aajra Ghanasal\\IMG_20240915_124752_Burst12.jpg: corrupt JPEG restored and saved\n",
      "\u001b[34m\u001b[1mtrain: \u001b[0mWARNING  E:\\Dataset\\train\\Aajra Ghanasal\\IMG_20240915_124752_Burst13.jpg: corrupt JPEG restored and saved\n",
      "\u001b[34m\u001b[1mtrain: \u001b[0mWARNING  E:\\Dataset\\train\\Aajra Ghanasal\\IMG_20240915_124752_Burst14.jpg: corrupt JPEG restored and saved\n",
      "\u001b[34m\u001b[1mtrain: \u001b[0mWARNING  E:\\Dataset\\train\\Aajra Ghanasal\\IMG_20240915_124752_Burst15.jpg: corrupt JPEG restored and saved\n",
      "\u001b[34m\u001b[1mtrain: \u001b[0mWARNING  E:\\Dataset\\train\\Aajra Ghanasal\\IMG_20240915_124752_Burst16.jpg: corrupt JPEG restored and saved\n",
      "\u001b[34m\u001b[1mtrain: \u001b[0mWARNING  E:\\Dataset\\train\\Aajra Ghanasal\\IMG_20240915_124752_Burst17.jpg: corrupt JPEG restored and saved\n",
      "\u001b[34m\u001b[1mtrain: \u001b[0mWARNING  E:\\Dataset\\train\\Aajra Ghanasal\\IMG_20240915_124752_Burst18.jpg: corrupt JPEG restored and saved\n",
      "\u001b[34m\u001b[1mtrain: \u001b[0mWARNING  E:\\Dataset\\train\\Aajra Ghanasal\\IMG_20240915_124752_Burst19.jpg: corrupt JPEG restored and saved\n",
      "\u001b[34m\u001b[1mtrain: \u001b[0mWARNING  E:\\Dataset\\train\\Aajra Ghanasal\\IMG_20240915_124752_Burst20.jpg: corrupt JPEG restored and saved\n",
      "\u001b[34m\u001b[1mtrain: \u001b[0mWARNING  E:\\Dataset\\train\\Aajra Ghanasal\\IMG_20240915_124839.jpg: corrupt JPEG restored and saved\n",
      "\u001b[34m\u001b[1mtrain: \u001b[0mWARNING  E:\\Dataset\\train\\Aajra Ghanasal\\IMG_20240915_124840.jpg: corrupt JPEG restored and saved\n",
      "\u001b[34m\u001b[1mtrain: \u001b[0mWARNING  E:\\Dataset\\train\\Aajra Ghanasal\\IMG_20240915_124840_1.jpg: corrupt JPEG restored and saved\n",
      "\u001b[34m\u001b[1mtrain: \u001b[0mWARNING  E:\\Dataset\\train\\Aajra Ghanasal\\IMG_20240915_124906.jpg: corrupt JPEG restored and saved\n",
      "\u001b[34m\u001b[1mtrain: \u001b[0mWARNING  E:\\Dataset\\train\\Aajra Ghanasal\\IMG_20240915_124909.jpg: corrupt JPEG restored and saved\n",
      "\u001b[34m\u001b[1mtrain: \u001b[0mWARNING  E:\\Dataset\\train\\Aajra Ghanasal\\IMG_20240915_124919.jpg: corrupt JPEG restored and saved\n",
      "\u001b[34m\u001b[1mtrain: \u001b[0mWARNING  E:\\Dataset\\train\\Aajra Ghanasal\\IMG_20240915_124922.jpg: corrupt JPEG restored and saved\n",
      "\u001b[34m\u001b[1mtrain: \u001b[0mWARNING  E:\\Dataset\\train\\Aajra Ghanasal\\IMG_20240915_124925.jpg: corrupt JPEG restored and saved\n",
      "\u001b[34m\u001b[1mtrain: \u001b[0mWARNING  E:\\Dataset\\train\\Aajra Ghanasal\\IMG_20240915_125002.jpg: corrupt JPEG restored and saved\n",
      "\u001b[34m\u001b[1mtrain: \u001b[0mWARNING  E:\\Dataset\\train\\Aajra Ghanasal\\IMG_20240915_125003.jpg: corrupt JPEG restored and saved\n",
      "\u001b[34m\u001b[1mtrain: \u001b[0mWARNING  E:\\Dataset\\train\\Aajra Ghanasal\\IMG_20240915_125005.jpg: corrupt JPEG restored and saved\n",
      "\u001b[34m\u001b[1mtrain: \u001b[0mWARNING  E:\\Dataset\\train\\Aajra Ghanasal\\IMG_20240915_125103_Burst01.jpg: corrupt JPEG restored and saved\n",
      "\u001b[34m\u001b[1mtrain: \u001b[0mWARNING  E:\\Dataset\\train\\Aajra Ghanasal\\IMG_20240915_125103_Burst02.jpg: corrupt JPEG restored and saved\n",
      "\u001b[34m\u001b[1mtrain: \u001b[0mWARNING  E:\\Dataset\\train\\Aajra Ghanasal\\IMG_20240915_125103_Burst03.jpg: corrupt JPEG restored and saved\n",
      "\u001b[34m\u001b[1mtrain: \u001b[0mWARNING  E:\\Dataset\\train\\Aajra Ghanasal\\IMG_20240915_125103_Burst04.jpg: corrupt JPEG restored and saved\n",
      "\u001b[34m\u001b[1mtrain: \u001b[0mWARNING  E:\\Dataset\\train\\Aajra Ghanasal\\IMG_20240915_125103_Burst05.jpg: corrupt JPEG restored and saved\n",
      "\u001b[34m\u001b[1mtrain: \u001b[0mWARNING  E:\\Dataset\\train\\Aajra Ghanasal\\IMG_20240915_125103_Burst06.jpg: corrupt JPEG restored and saved\n",
      "\u001b[34m\u001b[1mtrain: \u001b[0mWARNING  E:\\Dataset\\train\\Aajra Ghanasal\\IMG_20240915_125103_Burst07.jpg: corrupt JPEG restored and saved\n",
      "\u001b[34m\u001b[1mtrain: \u001b[0mWARNING  E:\\Dataset\\train\\Aajra Ghanasal\\IMG_20240915_125103_Burst08.jpg: corrupt JPEG restored and saved\n",
      "\u001b[34m\u001b[1mtrain: \u001b[0mWARNING  E:\\Dataset\\train\\Aajra Ghanasal\\IMG_20240915_125103_Burst09.jpg: corrupt JPEG restored and saved\n",
      "\u001b[34m\u001b[1mtrain: \u001b[0mWARNING  E:\\Dataset\\train\\Aajra Ghanasal\\IMG_20240915_125103_Burst10.jpg: corrupt JPEG restored and saved\n",
      "\u001b[34m\u001b[1mtrain: \u001b[0mWARNING  E:\\Dataset\\train\\Aajra Ghanasal\\IMG_20240915_125103_Burst11.jpg: corrupt JPEG restored and saved\n",
      "\u001b[34m\u001b[1mtrain: \u001b[0mWARNING  E:\\Dataset\\train\\Aajra Ghanasal\\IMG_20240915_125103_Burst12.jpg: corrupt JPEG restored and saved\n",
      "\u001b[34m\u001b[1mtrain: \u001b[0mWARNING  E:\\Dataset\\train\\Aajra Ghanasal\\IMG_20240915_125103_Burst13.jpg: corrupt JPEG restored and saved\n",
      "\u001b[34m\u001b[1mtrain: \u001b[0mWARNING  E:\\Dataset\\train\\Aajra Ghanasal\\IMG_20240915_125103_Burst14.jpg: corrupt JPEG restored and saved\n",
      "\u001b[34m\u001b[1mtrain: \u001b[0mWARNING  E:\\Dataset\\train\\Aajra Ghanasal\\IMG_20240915_125103_Burst15.jpg: corrupt JPEG restored and saved\n",
      "\u001b[34m\u001b[1mtrain: \u001b[0mWARNING  E:\\Dataset\\train\\Aajra Ghanasal\\IMG_20240915_125103_Burst16.jpg: corrupt JPEG restored and saved\n",
      "\u001b[34m\u001b[1mtrain: \u001b[0mWARNING  E:\\Dataset\\train\\Aajra Ghanasal\\IMG_20240915_125103_Burst17.jpg: corrupt JPEG restored and saved\n",
      "\u001b[34m\u001b[1mtrain: \u001b[0mWARNING  E:\\Dataset\\train\\Aajra Ghanasal\\IMG_20240915_125103_Burst18.jpg: corrupt JPEG restored and saved\n",
      "\u001b[34m\u001b[1mtrain: \u001b[0mWARNING  E:\\Dataset\\train\\Aajra Ghanasal\\IMG_20240915_125103_Burst19.jpg: corrupt JPEG restored and saved\n",
      "\u001b[34m\u001b[1mtrain: \u001b[0mWARNING  E:\\Dataset\\train\\Aajra Ghanasal\\IMG_20240915_125103_Burst20.jpg: corrupt JPEG restored and saved\n",
      "\u001b[34m\u001b[1mtrain: \u001b[0mWARNING  E:\\Dataset\\train\\Aajra Ghanasal\\IMG_20240915_125136_Burst01.jpg: corrupt JPEG restored and saved\n",
      "\u001b[34m\u001b[1mtrain: \u001b[0mWARNING  E:\\Dataset\\train\\Aajra Ghanasal\\IMG_20240915_125136_Burst02.jpg: corrupt JPEG restored and saved\n",
      "\u001b[34m\u001b[1mtrain: \u001b[0mWARNING  E:\\Dataset\\train\\Aajra Ghanasal\\IMG_20240915_125136_Burst03.jpg: corrupt JPEG restored and saved\n",
      "\u001b[34m\u001b[1mtrain: \u001b[0mWARNING  E:\\Dataset\\train\\Aajra Ghanasal\\IMG_20240915_125136_Burst04.jpg: corrupt JPEG restored and saved\n",
      "\u001b[34m\u001b[1mtrain: \u001b[0mWARNING  E:\\Dataset\\train\\Aajra Ghanasal\\IMG_20240915_125136_Burst05.jpg: corrupt JPEG restored and saved\n",
      "\u001b[34m\u001b[1mtrain: \u001b[0mWARNING  E:\\Dataset\\train\\Aajra Ghanasal\\IMG_20240915_125136_Burst06.jpg: corrupt JPEG restored and saved\n",
      "\u001b[34m\u001b[1mtrain: \u001b[0mWARNING  E:\\Dataset\\train\\Aajra Ghanasal\\IMG_20240915_125136_Burst07.jpg: corrupt JPEG restored and saved\n",
      "\u001b[34m\u001b[1mtrain: \u001b[0mWARNING  E:\\Dataset\\train\\Aajra Ghanasal\\IMG_20240915_125136_Burst08.jpg: corrupt JPEG restored and saved\n",
      "\u001b[34m\u001b[1mtrain: \u001b[0mWARNING  E:\\Dataset\\train\\Aajra Ghanasal\\IMG_20240915_125136_Burst09.jpg: corrupt JPEG restored and saved\n",
      "\u001b[34m\u001b[1mtrain: \u001b[0mWARNING  E:\\Dataset\\train\\Aajra Ghanasal\\IMG_20240915_125136_Burst10.jpg: corrupt JPEG restored and saved\n",
      "\u001b[34m\u001b[1mtrain: \u001b[0mWARNING  E:\\Dataset\\train\\Aajra Ghanasal\\IMG_20240915_125136_Burst11.jpg: corrupt JPEG restored and saved\n",
      "\u001b[34m\u001b[1mtrain: \u001b[0mWARNING  E:\\Dataset\\train\\Aajra Ghanasal\\IMG_20240915_125136_Burst12.jpg: corrupt JPEG restored and saved\n",
      "\u001b[34m\u001b[1mtrain: \u001b[0mWARNING  E:\\Dataset\\train\\Aajra Ghanasal\\IMG_20240915_125136_Burst13.jpg: corrupt JPEG restored and saved\n",
      "\u001b[34m\u001b[1mtrain: \u001b[0mWARNING  E:\\Dataset\\train\\Aajra Ghanasal\\IMG_20240915_125136_Burst14.jpg: corrupt JPEG restored and saved\n",
      "\u001b[34m\u001b[1mtrain: \u001b[0mWARNING  E:\\Dataset\\train\\Aajra Ghanasal\\IMG_20240915_125136_Burst15.jpg: corrupt JPEG restored and saved\n",
      "\u001b[34m\u001b[1mtrain: \u001b[0mWARNING  E:\\Dataset\\train\\Aajra Ghanasal\\IMG_20240915_125136_Burst16.jpg: corrupt JPEG restored and saved\n",
      "\u001b[34m\u001b[1mtrain: \u001b[0mWARNING  E:\\Dataset\\train\\Aajra Ghanasal\\IMG_20240915_125136_Burst17.jpg: corrupt JPEG restored and saved\n",
      "\u001b[34m\u001b[1mtrain: \u001b[0mWARNING  E:\\Dataset\\train\\Aajra Ghanasal\\IMG_20240915_125136_Burst18.jpg: corrupt JPEG restored and saved\n",
      "\u001b[34m\u001b[1mtrain: \u001b[0mWARNING  E:\\Dataset\\train\\Aajra Ghanasal\\IMG_20240915_125136_Burst19.jpg: corrupt JPEG restored and saved\n",
      "\u001b[34m\u001b[1mtrain: \u001b[0mWARNING  E:\\Dataset\\train\\Aajra Ghanasal\\IMG_20240915_125136_Burst20.jpg: corrupt JPEG restored and saved\n",
      "\u001b[34m\u001b[1mtrain: \u001b[0mWARNING  E:\\Dataset\\train\\Aajra Ghanasal\\IMG_20240915_125151_Burst01.jpg: corrupt JPEG restored and saved\n",
      "\u001b[34m\u001b[1mtrain: \u001b[0mWARNING  E:\\Dataset\\train\\Aajra Ghanasal\\IMG_20240915_125151_Burst02.jpg: corrupt JPEG restored and saved\n",
      "\u001b[34m\u001b[1mtrain: \u001b[0mWARNING  E:\\Dataset\\train\\Aajra Ghanasal\\IMG_20240915_125151_Burst03.jpg: corrupt JPEG restored and saved\n",
      "\u001b[34m\u001b[1mtrain: \u001b[0mWARNING  E:\\Dataset\\train\\Aajra Ghanasal\\IMG_20240915_125151_Burst04.jpg: corrupt JPEG restored and saved\n",
      "\u001b[34m\u001b[1mtrain: \u001b[0mWARNING  E:\\Dataset\\train\\Aajra Ghanasal\\IMG_20240915_125151_Burst05.jpg: corrupt JPEG restored and saved\n",
      "\u001b[34m\u001b[1mtrain: \u001b[0mWARNING  E:\\Dataset\\train\\Aajra Ghanasal\\IMG_20240915_125151_Burst06.jpg: corrupt JPEG restored and saved\n",
      "\u001b[34m\u001b[1mtrain: \u001b[0mWARNING  E:\\Dataset\\train\\Aajra Ghanasal\\IMG_20240915_125151_Burst07.jpg: corrupt JPEG restored and saved\n",
      "\u001b[34m\u001b[1mtrain: \u001b[0mWARNING  E:\\Dataset\\train\\Aajra Ghanasal\\IMG_20240915_125151_Burst08.jpg: corrupt JPEG restored and saved\n",
      "\u001b[34m\u001b[1mtrain: \u001b[0mWARNING  E:\\Dataset\\train\\Aajra Ghanasal\\IMG_20240915_125151_Burst09.jpg: corrupt JPEG restored and saved\n",
      "\u001b[34m\u001b[1mtrain: \u001b[0mWARNING  E:\\Dataset\\train\\Aajra Ghanasal\\IMG_20240915_125522_Burst12.jpg: corrupt JPEG restored and saved\n",
      "\u001b[34m\u001b[1mtrain: \u001b[0mWARNING  E:\\Dataset\\train\\Aajra Ghanasal\\IMG_20240915_125522_Burst13.jpg: corrupt JPEG restored and saved\n",
      "\u001b[34m\u001b[1mtrain: \u001b[0mWARNING  E:\\Dataset\\train\\Aajra Ghanasal\\IMG_20240915_125522_Burst14.jpg: corrupt JPEG restored and saved\n",
      "\u001b[34m\u001b[1mtrain: \u001b[0mWARNING  E:\\Dataset\\train\\Aajra Ghanasal\\IMG_20240915_125522_Burst15.jpg: corrupt JPEG restored and saved\n",
      "\u001b[34m\u001b[1mtrain: \u001b[0mWARNING  E:\\Dataset\\train\\Aajra Ghanasal\\IMG_20240915_125522_Burst16.jpg: corrupt JPEG restored and saved\n",
      "\u001b[34m\u001b[1mtrain: \u001b[0mWARNING  E:\\Dataset\\train\\Aajra Ghanasal\\IMG_20240915_125522_Burst17.jpg: corrupt JPEG restored and saved\n",
      "\u001b[34m\u001b[1mtrain: \u001b[0mWARNING  E:\\Dataset\\train\\Aajra Ghanasal\\IMG_20240915_125522_Burst18.jpg: corrupt JPEG restored and saved\n",
      "\u001b[34m\u001b[1mtrain: \u001b[0mWARNING  E:\\Dataset\\train\\Aajra Ghanasal\\IMG_20240915_125522_Burst19.jpg: corrupt JPEG restored and saved\n",
      "\u001b[34m\u001b[1mtrain: \u001b[0mWARNING  E:\\Dataset\\train\\Aajra Ghanasal\\IMG_20240915_125522_Burst20.jpg: corrupt JPEG restored and saved\n",
      "\u001b[34m\u001b[1mtrain: \u001b[0mWARNING  E:\\Dataset\\train\\Sonam\\IMG_20240914_091820.jpg: corrupt JPEG restored and saved\n",
      "\u001b[34m\u001b[1mtrain: \u001b[0mWARNING  E:\\Dataset\\train\\Sonam\\IMG_20240914_091841.jpg: corrupt JPEG restored and saved\n",
      "\u001b[34m\u001b[1mtrain: \u001b[0mWARNING  E:\\Dataset\\train\\Sonam\\IMG_20240914_091911.jpg: corrupt JPEG restored and saved\n",
      "\u001b[34m\u001b[1mtrain: \u001b[0mWARNING  E:\\Dataset\\train\\Sonam\\IMG_20240914_092038.jpg: corrupt JPEG restored and saved\n",
      "\u001b[34m\u001b[1mtrain: \u001b[0mWARNING  E:\\Dataset\\train\\Sonam\\IMG_20240914_092042.jpg: corrupt JPEG restored and saved\n",
      "\u001b[34m\u001b[1mtrain: \u001b[0mWARNING  E:\\Dataset\\train\\Sonam\\IMG_20240914_092048.jpg: corrupt JPEG restored and saved\n",
      "\u001b[34m\u001b[1mtrain: \u001b[0mWARNING  E:\\Dataset\\train\\Sonam\\IMG_20240914_092057.jpg: corrupt JPEG restored and saved\n",
      "\u001b[34m\u001b[1mtrain: \u001b[0mWARNING  E:\\Dataset\\train\\Sonam\\IMG_20240914_092551.jpg: corrupt JPEG restored and saved\n",
      "\u001b[34m\u001b[1mtrain: \u001b[0mWARNING  E:\\Dataset\\train\\Sonam\\IMG_20240914_092555.jpg: corrupt JPEG restored and saved\n",
      "\u001b[34m\u001b[1mtrain: \u001b[0mWARNING  E:\\Dataset\\train\\Sonam\\IMG_20240914_092559.jpg: corrupt JPEG restored and saved\n",
      "\u001b[34m\u001b[1mtrain: \u001b[0mWARNING  E:\\Dataset\\train\\Sonam\\IMG_20240914_092604.jpg: corrupt JPEG restored and saved\n",
      "\u001b[34m\u001b[1mtrain: \u001b[0mWARNING  E:\\Dataset\\train\\Sonam\\IMG_20240914_092609.jpg: corrupt JPEG restored and saved\n",
      "\u001b[34m\u001b[1mtrain: \u001b[0mWARNING  E:\\Dataset\\train\\Sonam\\IMG_20240914_092733.jpg: corrupt JPEG restored and saved\n",
      "\u001b[34m\u001b[1mtrain: \u001b[0mWARNING  E:\\Dataset\\train\\Sonam\\IMG_20240914_093625.jpg: corrupt JPEG restored and saved\n",
      "\u001b[34m\u001b[1mtrain: \u001b[0mWARNING  E:\\Dataset\\train\\Sonam\\IMG_20240914_093626.jpg: corrupt JPEG restored and saved\n",
      "\u001b[34m\u001b[1mtrain: \u001b[0mWARNING  E:\\Dataset\\train\\Sonam\\IMG_20240914_093627.jpg: corrupt JPEG restored and saved\n",
      "\u001b[34m\u001b[1mtrain: \u001b[0mWARNING  E:\\Dataset\\train\\Sonam\\IMG_20240914_093630.jpg: corrupt JPEG restored and saved\n",
      "\u001b[34m\u001b[1mtrain: \u001b[0mWARNING  E:\\Dataset\\train\\Sonam\\IMG_20240914_093632.jpg: corrupt JPEG restored and saved\n",
      "\u001b[34m\u001b[1mtrain: \u001b[0mWARNING  E:\\Dataset\\train\\Sonam\\IMG_20240914_093634.jpg: corrupt JPEG restored and saved\n",
      "\u001b[34m\u001b[1mtrain: \u001b[0mWARNING  E:\\Dataset\\train\\Sonam\\IMG_20240914_093639.jpg: corrupt JPEG restored and saved\n",
      "\u001b[34m\u001b[1mtrain: \u001b[0mWARNING  E:\\Dataset\\train\\Sonam\\IMG_20240914_093704.jpg: corrupt JPEG restored and saved\n",
      "\u001b[34m\u001b[1mtrain: \u001b[0mWARNING  E:\\Dataset\\train\\Sonam\\IMG_20240914_093714.jpg: corrupt JPEG restored and saved\n",
      "\u001b[34m\u001b[1mtrain: \u001b[0mWARNING  E:\\Dataset\\train\\Sonam\\IMG_20240914_093727.jpg: corrupt JPEG restored and saved\n",
      "\u001b[34m\u001b[1mtrain: \u001b[0mWARNING  E:\\Dataset\\train\\Sonam\\IMG_20240914_093729.jpg: corrupt JPEG restored and saved\n",
      "\u001b[34m\u001b[1mtrain: \u001b[0mWARNING  E:\\Dataset\\train\\Sonam\\IMG_20240914_093734.jpg: corrupt JPEG restored and saved\n",
      "\u001b[34m\u001b[1mtrain: \u001b[0mWARNING  E:\\Dataset\\train\\Sonam\\IMG_20240914_093735.jpg: corrupt JPEG restored and saved\n",
      "\u001b[34m\u001b[1mtrain: \u001b[0mWARNING  E:\\Dataset\\train\\Sonam\\IMG_20240914_093736.jpg: corrupt JPEG restored and saved\n",
      "\u001b[34m\u001b[1mtrain: \u001b[0mWARNING  E:\\Dataset\\train\\Sonam\\IMG_20240914_093737.jpg: corrupt JPEG restored and saved\n",
      "\u001b[34m\u001b[1mtrain: \u001b[0mWARNING  E:\\Dataset\\train\\Sonam\\IMG_20240914_094018.jpg: corrupt JPEG restored and saved\n",
      "\u001b[34m\u001b[1mtrain: \u001b[0mWARNING  E:\\Dataset\\train\\Sonam\\IMG_20240914_094021.jpg: corrupt JPEG restored and saved\n",
      "\u001b[34m\u001b[1mtrain: \u001b[0mWARNING  E:\\Dataset\\train\\Sonam\\IMG_20240914_094040.jpg: corrupt JPEG restored and saved\n",
      "\u001b[34m\u001b[1mtrain: \u001b[0mWARNING  E:\\Dataset\\train\\Sonam\\IMG_20240914_094042.jpg: corrupt JPEG restored and saved\n",
      "\u001b[34m\u001b[1mtrain: \u001b[0mWARNING  E:\\Dataset\\train\\Sonam\\IMG_20240914_094102.jpg: corrupt JPEG restored and saved\n",
      "\u001b[34m\u001b[1mtrain: \u001b[0mWARNING  E:\\Dataset\\train\\Sonam\\IMG_20240914_094104.jpg: corrupt JPEG restored and saved\n",
      "\u001b[34m\u001b[1mtrain: \u001b[0mWARNING  E:\\Dataset\\train\\Sonam\\IMG_20240914_094108.jpg: corrupt JPEG restored and saved\n",
      "\u001b[34m\u001b[1mtrain: \u001b[0mWARNING  E:\\Dataset\\train\\Sonam\\IMG_20240914_094112.jpg: corrupt JPEG restored and saved\n",
      "\u001b[34m\u001b[1mtrain: \u001b[0mWARNING  E:\\Dataset\\train\\Sonam\\IMG_20240914_094202.jpg: corrupt JPEG restored and saved\n",
      "\u001b[34m\u001b[1mtrain: \u001b[0mWARNING  E:\\Dataset\\train\\Sonam\\IMG_20240914_094259.jpg: corrupt JPEG restored and saved\n",
      "\u001b[34m\u001b[1mtrain: \u001b[0mWARNING  E:\\Dataset\\train\\Sonam\\IMG_20240914_094300.jpg: corrupt JPEG restored and saved\n",
      "\u001b[34m\u001b[1mtrain: \u001b[0mWARNING  E:\\Dataset\\train\\Sonam\\IMG_20240914_094303.jpg: corrupt JPEG restored and saved\n",
      "\u001b[34m\u001b[1mtrain: \u001b[0mWARNING  E:\\Dataset\\train\\Sonam\\IMG_20240914_094304.jpg: corrupt JPEG restored and saved\n",
      "\u001b[34m\u001b[1mtrain: \u001b[0mWARNING  E:\\Dataset\\train\\Sonam\\IMG_20240914_094306.jpg: corrupt JPEG restored and saved\n",
      "\u001b[34m\u001b[1mtrain: \u001b[0mWARNING  E:\\Dataset\\train\\Sonam\\IMG_20240914_094308.jpg: corrupt JPEG restored and saved\n",
      "\u001b[34m\u001b[1mtrain: \u001b[0mWARNING  E:\\Dataset\\train\\Sonam\\IMG_20240914_094309.jpg: corrupt JPEG restored and saved\n",
      "\u001b[34m\u001b[1mtrain: \u001b[0mWARNING  E:\\Dataset\\train\\Sonam\\IMG_20240914_094312.jpg: corrupt JPEG restored and saved\n"
     ]
    },
    {
     "name": "stderr",
     "output_type": "stream",
     "text": [
      "\n",
      "\u001b[34m\u001b[1mval: \u001b[0mScanning E:\\Dataset\\validation... 79 images, 0 corrupt: 100%|██████████| 79/79 [00:00<?, ?it/s]"
     ]
    },
    {
     "name": "stdout",
     "output_type": "stream",
     "text": [
      "\u001b[34m\u001b[1mval: \u001b[0mWARNING  E:\\Dataset\\validation\\Aajra Ghanasal\\IMG_20240915_124605_Burst19.jpg: corrupt JPEG restored and saved\n",
      "\u001b[34m\u001b[1mval: \u001b[0mWARNING  E:\\Dataset\\validation\\Aajra Ghanasal\\IMG_20240915_124605_Burst20.jpg: corrupt JPEG restored and saved\n",
      "\u001b[34m\u001b[1mval: \u001b[0mWARNING  E:\\Dataset\\validation\\Aajra Ghanasal\\IMG_20240915_124621_Burst01.jpg: corrupt JPEG restored and saved\n",
      "\u001b[34m\u001b[1mval: \u001b[0mWARNING  E:\\Dataset\\validation\\Aajra Ghanasal\\IMG_20240915_124621_Burst16.jpg: corrupt JPEG restored and saved\n",
      "\u001b[34m\u001b[1mval: \u001b[0mWARNING  E:\\Dataset\\validation\\Aajra Ghanasal\\IMG_20240915_124621_Burst17.jpg: corrupt JPEG restored and saved\n",
      "\u001b[34m\u001b[1mval: \u001b[0mWARNING  E:\\Dataset\\validation\\Aajra Ghanasal\\IMG_20240915_124621_Burst18.jpg: corrupt JPEG restored and saved\n",
      "\u001b[34m\u001b[1mval: \u001b[0mWARNING  E:\\Dataset\\validation\\Aajra Ghanasal\\IMG_20240915_124621_Burst19.jpg: corrupt JPEG restored and saved\n",
      "\u001b[34m\u001b[1mval: \u001b[0mWARNING  E:\\Dataset\\validation\\Aajra Ghanasal\\IMG_20240915_124621_Burst20.jpg: corrupt JPEG restored and saved\n",
      "\u001b[34m\u001b[1mval: \u001b[0mWARNING  E:\\Dataset\\validation\\Aajra Ghanasal\\IMG_20240915_125522_Burst07.jpg: corrupt JPEG restored and saved\n",
      "\u001b[34m\u001b[1mval: \u001b[0mWARNING  E:\\Dataset\\validation\\Aajra Ghanasal\\IMG_20240915_125522_Burst08.jpg: corrupt JPEG restored and saved\n",
      "\u001b[34m\u001b[1mval: \u001b[0mWARNING  E:\\Dataset\\validation\\Aajra Ghanasal\\IMG_20240915_125522_Burst09.jpg: corrupt JPEG restored and saved\n",
      "\u001b[34m\u001b[1mval: \u001b[0mWARNING  E:\\Dataset\\validation\\Aajra Ghanasal\\IMG_20240915_125522_Burst10.jpg: corrupt JPEG restored and saved\n",
      "\u001b[34m\u001b[1mval: \u001b[0mWARNING  E:\\Dataset\\validation\\Aajra Ghanasal\\IMG_20240915_125522_Burst11.jpg: corrupt JPEG restored and saved\n",
      "\u001b[34m\u001b[1moptimizer:\u001b[0m 'optimizer=auto' found, ignoring 'lr0=0.01' and 'momentum=0.937' and determining best 'optimizer', 'lr0' and 'momentum' automatically... \n",
      "\u001b[34m\u001b[1moptimizer:\u001b[0m AdamW(lr=0.000714, momentum=0.9) with parameter groups 26 weight(decay=0.0), 27 weight(decay=0.0005), 27 bias(decay=0.0)\n"
     ]
    },
    {
     "name": "stderr",
     "output_type": "stream",
     "text": [
      "\n"
     ]
    },
    {
     "name": "stdout",
     "output_type": "stream",
     "text": [
      "\u001b[34m\u001b[1mTensorBoard: \u001b[0mmodel graph visualization added \n",
      "Image sizes 224 train, 224 val\n",
      "Using 0 dataloader workers\n",
      "Logging results to \u001b[1mruns\\classify\\train3\u001b[0m\n",
      "Starting training for 5 epochs...\n",
      "\n",
      "      Epoch    GPU_mem       loss  Instances       Size\n"
     ]
    },
    {
     "name": "stderr",
     "output_type": "stream",
     "text": [
      "        1/5         0G     0.9796          8        224: 100%|██████████| 71/71 [04:33<00:00,  3.85s/it]\n",
      "               classes   top1_acc   top5_acc: 100%|██████████| 3/3 [00:19<00:00,  6.62s/it]"
     ]
    },
    {
     "name": "stdout",
     "output_type": "stream",
     "text": [
      "                   all      0.696          1\n"
     ]
    },
    {
     "name": "stderr",
     "output_type": "stream",
     "text": [
      "\n"
     ]
    },
    {
     "name": "stdout",
     "output_type": "stream",
     "text": [
      "\n",
      "      Epoch    GPU_mem       loss  Instances       Size\n"
     ]
    },
    {
     "name": "stderr",
     "output_type": "stream",
     "text": [
      "        2/5         0G     0.6444          8        224: 100%|██████████| 71/71 [23:46<00:00, 20.09s/it]   \n",
      "               classes   top1_acc   top5_acc: 100%|██████████| 3/3 [00:21<00:00,  7.08s/it]"
     ]
    },
    {
     "name": "stdout",
     "output_type": "stream",
     "text": [
      "                   all      0.722          1\n"
     ]
    },
    {
     "name": "stderr",
     "output_type": "stream",
     "text": [
      "\n"
     ]
    },
    {
     "name": "stdout",
     "output_type": "stream",
     "text": [
      "\n",
      "      Epoch    GPU_mem       loss  Instances       Size\n"
     ]
    },
    {
     "name": "stderr",
     "output_type": "stream",
     "text": [
      "        3/5         0G     0.4344          8        224: 100%|██████████| 71/71 [04:58<00:00,  4.21s/it]\n",
      "               classes   top1_acc   top5_acc: 100%|██████████| 3/3 [00:20<00:00,  6.71s/it]"
     ]
    },
    {
     "name": "stdout",
     "output_type": "stream",
     "text": [
      "                   all      0.861          1\n"
     ]
    },
    {
     "name": "stderr",
     "output_type": "stream",
     "text": [
      "\n"
     ]
    },
    {
     "name": "stdout",
     "output_type": "stream",
     "text": [
      "\n",
      "      Epoch    GPU_mem       loss  Instances       Size\n"
     ]
    },
    {
     "name": "stderr",
     "output_type": "stream",
     "text": [
      "        4/5         0G     0.3419          8        224: 100%|██████████| 71/71 [04:23<00:00,  3.71s/it]\n",
      "               classes   top1_acc   top5_acc: 100%|██████████| 3/3 [00:21<00:00,  7.28s/it]"
     ]
    },
    {
     "name": "stdout",
     "output_type": "stream",
     "text": [
      "                   all      0.899          1\n"
     ]
    },
    {
     "name": "stderr",
     "output_type": "stream",
     "text": [
      "\n"
     ]
    },
    {
     "name": "stdout",
     "output_type": "stream",
     "text": [
      "\n",
      "      Epoch    GPU_mem       loss  Instances       Size\n"
     ]
    },
    {
     "name": "stderr",
     "output_type": "stream",
     "text": [
      "        5/5         0G     0.2649          8        224: 100%|██████████| 71/71 [1:13:10<00:00, 61.84s/it]    \n",
      "               classes   top1_acc   top5_acc: 100%|██████████| 3/3 [00:21<00:00,  7.08s/it]"
     ]
    },
    {
     "name": "stdout",
     "output_type": "stream",
     "text": [
      "                   all      0.899          1\n"
     ]
    },
    {
     "name": "stderr",
     "output_type": "stream",
     "text": [
      "\n"
     ]
    },
    {
     "name": "stdout",
     "output_type": "stream",
     "text": [
      "\n",
      "5 epochs completed in 1.879 hours.\n",
      "Optimizer stripped from runs\\classify\\train3\\weights\\last.pt, 3.0MB\n",
      "Optimizer stripped from runs\\classify\\train3\\weights\\best.pt, 3.0MB\n",
      "\n",
      "Validating runs\\classify\\train3\\weights\\best.pt...\n",
      "Ultralytics 8.3.7  Python-3.12.7 torch-2.4.1+cpu CPU (12th Gen Intel Core(TM) i5-12450H)\n",
      "YOLOv8n-cls summary (fused): 73 layers, 1,438,723 parameters, 0 gradients, 3.3 GFLOPs\n",
      "\u001b[34m\u001b[1mtrain:\u001b[0m E:\\Dataset\\train... found 1128 images in 3 classes  \n",
      "\u001b[34m\u001b[1mval:\u001b[0m E:\\Dataset\\validation... found 79 images in 3 classes  \n",
      "\u001b[34m\u001b[1mtest:\u001b[0m E:\\Dataset\\test... found 204 images in 3 classes  \n"
     ]
    },
    {
     "name": "stderr",
     "output_type": "stream",
     "text": [
      "               classes   top1_acc   top5_acc: 100%|██████████| 3/3 [00:20<00:00,  6.85s/it]\n"
     ]
    },
    {
     "name": "stdout",
     "output_type": "stream",
     "text": [
      "                   all      0.899          1\n",
      "Speed: 0.0ms preprocess, 7.2ms inference, 0.0ms loss, 0.0ms postprocess per image\n",
      "Results saved to \u001b[1mruns\\classify\\train3\u001b[0m\n",
      "Results saved to \u001b[1mruns\\classify\\train3\u001b[0m\n"
     ]
    },
    {
     "data": {
      "text/plain": [
       "ultralytics.utils.metrics.ClassifyMetrics object with attributes:\n",
       "\n",
       "confusion_matrix: <ultralytics.utils.metrics.ConfusionMatrix object at 0x00000255ECE1EAB0>\n",
       "curves: []\n",
       "curves_results: []\n",
       "fitness: 0.9493670761585236\n",
       "keys: ['metrics/accuracy_top1', 'metrics/accuracy_top5']\n",
       "results_dict: {'metrics/accuracy_top1': 0.8987341523170471, 'metrics/accuracy_top5': 1.0, 'fitness': 0.9493670761585236}\n",
       "save_dir: WindowsPath('runs/classify/train3')\n",
       "speed: {'preprocess': 0.009539761120759988, 'inference': 7.218270362177981, 'loss': 0.0, 'postprocess': 0.0}\n",
       "task: 'classify'\n",
       "top1: 0.8987341523170471\n",
       "top5: 1.0\n",
       "training: {'epochs': 5, 'seconds': 6763.43014550209}"
      ]
     },
     "execution_count": 5,
     "metadata": {},
     "output_type": "execute_result"
    }
   ],
   "source": [
    "import os\n",
    "import random\n",
    "import pandas as pd \n",
    "import numpy as np \n",
    "import matplotlib.pyplot as plt\n",
    "import cv2\n",
    "from shutil import copyfile\n",
    "import csv\n",
    "import shutil\n",
    "from sklearn.model_selection import train_test_split\n",
    "\n",
    "import warnings\n",
    "warnings.filterwarnings('ignore')\n",
    "\n",
    "from ultralytics import YOLO\n",
    "\n",
    "# Load a model\n",
    "model = YOLO('yolov8n-cls.pt')  # load a pretrained model (recommended for training)\n",
    "\n",
    "# Train the model\n",
    "model.train(data=\"E:\\Dataset\", epochs=1)"
   ]
  },
  {
   "cell_type": "code",
   "execution_count": 6,
   "metadata": {},
   "outputs": [
    {
     "name": "stdout",
     "output_type": "stream",
     "text": [
      "Ultralytics 8.3.7  Python-3.12.7 torch-2.4.1+cpu CPU (12th Gen Intel Core(TM) i5-12450H)\n",
      "YOLOv8n-cls summary (fused): 73 layers, 1,438,723 parameters, 0 gradients, 3.3 GFLOPs\n",
      "\u001b[34m\u001b[1mtrain:\u001b[0m E:\\Dataset\\train... found 1128 images in 3 classes  \n",
      "\u001b[34m\u001b[1mval:\u001b[0m E:\\Dataset\\validation... found 79 images in 3 classes  \n",
      "\u001b[34m\u001b[1mtest:\u001b[0m E:\\Dataset\\test... found 204 images in 3 classes  \n"
     ]
    },
    {
     "name": "stderr",
     "output_type": "stream",
     "text": [
      "\u001b[34m\u001b[1mval: \u001b[0mScanning E:\\Dataset\\validation... 79 images, 0 corrupt: 100%|██████████| 79/79 [00:00<?, ?it/s]"
     ]
    },
    {
     "name": "stdout",
     "output_type": "stream",
     "text": [
      "\u001b[34m\u001b[1mval: \u001b[0mWARNING  E:\\Dataset\\validation\\Aajra Ghanasal\\IMG_20240915_124605_Burst19.jpg: corrupt JPEG restored and saved\n",
      "\u001b[34m\u001b[1mval: \u001b[0mWARNING  E:\\Dataset\\validation\\Aajra Ghanasal\\IMG_20240915_124605_Burst20.jpg: corrupt JPEG restored and saved\n",
      "\u001b[34m\u001b[1mval: \u001b[0mWARNING  E:\\Dataset\\validation\\Aajra Ghanasal\\IMG_20240915_124621_Burst01.jpg: corrupt JPEG restored and saved\n",
      "\u001b[34m\u001b[1mval: \u001b[0mWARNING  E:\\Dataset\\validation\\Aajra Ghanasal\\IMG_20240915_124621_Burst16.jpg: corrupt JPEG restored and saved\n",
      "\u001b[34m\u001b[1mval: \u001b[0mWARNING  E:\\Dataset\\validation\\Aajra Ghanasal\\IMG_20240915_124621_Burst17.jpg: corrupt JPEG restored and saved\n",
      "\u001b[34m\u001b[1mval: \u001b[0mWARNING  E:\\Dataset\\validation\\Aajra Ghanasal\\IMG_20240915_124621_Burst18.jpg: corrupt JPEG restored and saved\n",
      "\u001b[34m\u001b[1mval: \u001b[0mWARNING  E:\\Dataset\\validation\\Aajra Ghanasal\\IMG_20240915_124621_Burst19.jpg: corrupt JPEG restored and saved\n",
      "\u001b[34m\u001b[1mval: \u001b[0mWARNING  E:\\Dataset\\validation\\Aajra Ghanasal\\IMG_20240915_124621_Burst20.jpg: corrupt JPEG restored and saved\n",
      "\u001b[34m\u001b[1mval: \u001b[0mWARNING  E:\\Dataset\\validation\\Aajra Ghanasal\\IMG_20240915_125522_Burst07.jpg: corrupt JPEG restored and saved\n",
      "\u001b[34m\u001b[1mval: \u001b[0mWARNING  E:\\Dataset\\validation\\Aajra Ghanasal\\IMG_20240915_125522_Burst08.jpg: corrupt JPEG restored and saved\n",
      "\u001b[34m\u001b[1mval: \u001b[0mWARNING  E:\\Dataset\\validation\\Aajra Ghanasal\\IMG_20240915_125522_Burst09.jpg: corrupt JPEG restored and saved\n",
      "\u001b[34m\u001b[1mval: \u001b[0mWARNING  E:\\Dataset\\validation\\Aajra Ghanasal\\IMG_20240915_125522_Burst10.jpg: corrupt JPEG restored and saved\n",
      "\u001b[34m\u001b[1mval: \u001b[0mWARNING  E:\\Dataset\\validation\\Aajra Ghanasal\\IMG_20240915_125522_Burst11.jpg: corrupt JPEG restored and saved\n"
     ]
    },
    {
     "name": "stderr",
     "output_type": "stream",
     "text": [
      "\n",
      "               classes   top1_acc   top5_acc: 100%|██████████| 5/5 [00:20<00:00,  4.16s/it]\n"
     ]
    },
    {
     "name": "stdout",
     "output_type": "stream",
     "text": [
      "                   all      0.899          1\n",
      "Speed: 0.0ms preprocess, 9.0ms inference, 0.0ms loss, 0.0ms postprocess per image\n",
      "Results saved to \u001b[1mruns\\classify\\train32\u001b[0m\n"
     ]
    },
    {
     "data": {
      "text/plain": [
       "1.0"
      ]
     },
     "execution_count": 6,
     "metadata": {},
     "output_type": "execute_result"
    }
   ],
   "source": [
    "# Validate the model\n",
    "metrics = model.val()  # no arguments needed, dataset and settings remembered\n",
    "metrics.top1   # top1 accuracy\n",
    "metrics.top5   # top5 accuracy"
   ]
  }
 ],
 "metadata": {
  "kernelspec": {
   "display_name": "Python 3",
   "language": "python",
   "name": "python3"
  },
  "language_info": {
   "codemirror_mode": {
    "name": "ipython",
    "version": 3
   },
   "file_extension": ".py",
   "mimetype": "text/x-python",
   "name": "python",
   "nbconvert_exporter": "python",
   "pygments_lexer": "ipython3",
   "version": "3.12.7"
  }
 },
 "nbformat": 4,
 "nbformat_minor": 2
}
